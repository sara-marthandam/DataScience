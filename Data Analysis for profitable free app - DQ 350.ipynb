{
 "cells": [
  {
   "cell_type": "markdown",
   "metadata": {},
   "source": [
    "# Data Analysis for profitable free app on Android and iOS\n",
    "\n",
    "This is a data analysis project for a free app development company. Our goal here is to analyse the various influencing factors that drive users to download free apps from *iOS App Store* and *Android Play Store*. We will analyze data for existing free applications to identify the type, genere and other categorization of apps that are most profitable.\n",
    "\n",
    "This being a free app our only source of revenue is ads. Hence we will understand and map the features that drive users download a app and to stay loyal to the apps in spite of having to interact with ads. Also catalogue additional features that will sustain and grow this loyaltity and satisfaction, as such **retaining returning customers in addition to attracting new first time**."
   ]
  },
  {
   "cell_type": "markdown",
   "metadata": {},
   "source": [
    "## Data Gathering\n",
    "\n",
    "To understand the features to implement in the new app. We will first analyze exiting app information from the Apple Store and Google Play store. However considering that there are millions of apps to be considere we will work on a small subset of those apps for the purpose of this project. Below is the links to the data sets used for this purpose:\n",
    "\n",
    "1. A data set containing data of about approximately 10,000 Android apps from Google Play; the data was collected in August 2018. You can download the data set directly from [this link](https://dq-content.s3.amazonaws.com/350/googleplaystore.csv).\n",
    "\n",
    "\n",
    "2. A data set containing data about approximately 7,000 iOS apps from the App Store; the data was collected in July 2017. You can download the data set directly from [this link](https://dq-content.s3.amazonaws.com/350/AppleStore.csv)."
   ]
  },
  {
   "cell_type": "code",
   "execution_count": 1,
   "metadata": {},
   "outputs": [],
   "source": [
    "def explore_data(data_set, start = 0, end = 5, row_column_count = True):\n",
    "    print(data_set[0], '\\n')\n",
    "    data_subset = data_set[start + 1:end]\n",
    "    for row in data_subset:\n",
    "        print(row, '\\n')\n",
    "    if row_column_count:\n",
    "        print('# of columns:',len(data_set[0]))\n",
    "        print('# of rows:',len(data_set))"
   ]
  },
  {
   "cell_type": "code",
   "execution_count": 2,
   "metadata": {},
   "outputs": [
    {
     "name": "stdout",
     "output_type": "stream",
     "text": [
      "['App', 'Category', 'Rating', 'Reviews', 'Size', 'Installs', 'Type', 'Price', 'Content Rating', 'Genres', 'Last Updated', 'Current Ver', 'Android Ver'] \n",
      "\n",
      "['Photo Editor & Candy Camera & Grid & ScrapBook', 'ART_AND_DESIGN', '4.1', '159', '19M', '10,000+', 'Free', '0', 'Everyone', 'Art & Design', 'January 7, 2018', '1.0.0', '4.0.3 and up'] \n",
      "\n",
      "['Coloring book moana', 'ART_AND_DESIGN', '3.9', '967', '14M', '500,000+', 'Free', '0', 'Everyone', 'Art & Design;Pretend Play', 'January 15, 2018', '2.0.0', '4.0.3 and up'] \n",
      "\n",
      "['U Launcher Lite – FREE Live Cool Themes, Hide Apps', 'ART_AND_DESIGN', '4.7', '87510', '8.7M', '5,000,000+', 'Free', '0', 'Everyone', 'Art & Design', 'August 1, 2018', '1.2.4', '4.0.3 and up'] \n",
      "\n",
      "['Sketch - Draw & Paint', 'ART_AND_DESIGN', '4.5', '215644', '25M', '50,000,000+', 'Free', '0', 'Teen', 'Art & Design', 'June 8, 2018', 'Varies with device', '4.2 and up'] \n",
      "\n",
      "# of columns: 13\n",
      "# of rows: 10842\n"
     ]
    }
   ],
   "source": [
    "open_file = open('googleplaystore.csv')\n",
    "from csv import reader\n",
    "read_file = reader(open_file)\n",
    "android = list(read_file)\n",
    "explore_data(android)"
   ]
  },
  {
   "cell_type": "code",
   "execution_count": 3,
   "metadata": {},
   "outputs": [
    {
     "name": "stdout",
     "output_type": "stream",
     "text": [
      "['id', 'track_name', 'size_bytes', 'currency', 'price', 'rating_count_tot', 'rating_count_ver', 'user_rating', 'user_rating_ver', 'ver', 'cont_rating', 'prime_genre', 'sup_devices.num', 'ipadSc_urls.num', 'lang.num', 'vpp_lic'] \n",
      "\n",
      "['284882215', 'Facebook', '389879808', 'USD', '0.0', '2974676', '212', '3.5', '3.5', '95.0', '4+', 'Social Networking', '37', '1', '29', '1'] \n",
      "\n",
      "['389801252', 'Instagram', '113954816', 'USD', '0.0', '2161558', '1289', '4.5', '4.0', '10.23', '12+', 'Photo & Video', '37', '0', '29', '1'] \n",
      "\n",
      "['529479190', 'Clash of Clans', '116476928', 'USD', '0.0', '2130805', '579', '4.5', '4.5', '9.24.12', '9+', 'Games', '38', '5', '18', '1'] \n",
      "\n",
      "['420009108', 'Temple Run', '65921024', 'USD', '0.0', '1724546', '3842', '4.5', '4.0', '1.6.2', '9+', 'Games', '40', '5', '1', '1'] \n",
      "\n",
      "# of columns: 16\n",
      "# of rows: 7198\n"
     ]
    }
   ],
   "source": [
    "open_file = open('AppleStore.csv')\n",
    "from csv import reader\n",
    "read_file = reader(open_file)\n",
    "apple = list(read_file)\n",
    "explore_data(apple)"
   ]
  },
  {
   "cell_type": "code",
   "execution_count": 4,
   "metadata": {},
   "outputs": [],
   "source": [
    "def duplicates(data_set, column):\n",
    "    duplicate_set = []\n",
    "    unique_set = []\n",
    "    for row in data_set[1:]:\n",
    "        name = row[column]\n",
    "        if name in unique_set:\n",
    "            duplicate_set.append(name)\n",
    "        else:\n",
    "            unique_set.append(name)\n",
    "    print(\"Duplicate Apps: \", len(duplicate_set))\n",
    "    print(\"Unique Apps: \", len(unique_set))"
   ]
  },
  {
   "cell_type": "code",
   "execution_count": 5,
   "metadata": {},
   "outputs": [],
   "source": [
    "def incomplete_data(data_set):\n",
    "    length = len(data_set[0])\n",
    "    for row in data_set[1:]:\n",
    "        if len(row) < length:\n",
    "            data_set.remove(row)\n",
    "            print('Deleted: ', row)"
   ]
  },
  {
   "cell_type": "code",
   "execution_count": 6,
   "metadata": {},
   "outputs": [
    {
     "name": "stdout",
     "output_type": "stream",
     "text": [
      "Deleted:  ['Life Made WI-Fi Touchscreen Photo Frame', '1.9', '19', '3.0M', '1,000+', 'Free', '0', 'Everyone', '', 'February 11, 2018', '1.0.19', '4.0 and up']\n"
     ]
    }
   ],
   "source": [
    "incomplete_data(android)"
   ]
  },
  {
   "cell_type": "code",
   "execution_count": 7,
   "metadata": {},
   "outputs": [],
   "source": [
    "incomplete_data(apple)"
   ]
  },
  {
   "cell_type": "code",
   "execution_count": 8,
   "metadata": {},
   "outputs": [
    {
     "name": "stdout",
     "output_type": "stream",
     "text": [
      "Duplicate Apps:  1181\n",
      "Unique Apps:  9659\n"
     ]
    }
   ],
   "source": [
    "duplicates(android, 0)"
   ]
  },
  {
   "cell_type": "code",
   "execution_count": 9,
   "metadata": {},
   "outputs": [
    {
     "name": "stdout",
     "output_type": "stream",
     "text": [
      "Duplicate Apps:  2\n",
      "Unique Apps:  7195\n"
     ]
    }
   ],
   "source": [
    "duplicates(apple, 1)"
   ]
  },
  {
   "cell_type": "code",
   "execution_count": 10,
   "metadata": {},
   "outputs": [],
   "source": [
    "def unique_dict(data_set, n, r, v):\n",
    "    review_filter = {}\n",
    "    for row in data_set[1:]:\n",
    "        name = row[n]\n",
    "        reviews = row[r]\n",
    "        version = row[v]\n",
    "        if name in review_filter:\n",
    "            if version > review_filter[name][0]:\n",
    "                review_filter[name][0] = version\n",
    "                review_filter[name][1] = reviews\n",
    "            elif version == review_filter[name][0] and reviews > review_filter[name][1]:\n",
    "                review_filter[name][1] = reviews\n",
    "        else:\n",
    "            review_filter[name] = [version, reviews]\n",
    "    return review_filter"
   ]
  },
  {
   "cell_type": "code",
   "execution_count": 11,
   "metadata": {},
   "outputs": [],
   "source": [
    "def get_unique(data_set, unique_data_dict, n, r, v):\n",
    "    clean_data = [data_set[0]]\n",
    "    already_added = []\n",
    "    for row in data_set[1:]:\n",
    "        name = row[n]\n",
    "        reviews = row[r]\n",
    "        version = row[v]\n",
    "        if name not in already_added:\n",
    "            if unique_data_dict[name][0] == version and unique_data_dict[name][1] == reviews:\n",
    "                clean_data.append(row)\n",
    "                already_added.append(name)\n",
    "    return clean_data"
   ]
  },
  {
   "cell_type": "code",
   "execution_count": 12,
   "metadata": {},
   "outputs": [
    {
     "name": "stdout",
     "output_type": "stream",
     "text": [
      "[['App', 'Category', 'Rating', 'Reviews', 'Size', 'Installs', 'Type', 'Price', 'Content Rating', 'Genres', 'Last Updated', 'Current Ver', 'Android Ver'], ['Photo Editor & Candy Camera & Grid & ScrapBook', 'ART_AND_DESIGN', '4.1', '159', '19M', '10,000+', 'Free', '0', 'Everyone', 'Art & Design', 'January 7, 2018', '1.0.0', '4.0.3 and up'], ['U Launcher Lite – FREE Live Cool Themes, Hide Apps', 'ART_AND_DESIGN', '4.7', '87510', '8.7M', '5,000,000+', 'Free', '0', 'Everyone', 'Art & Design', 'August 1, 2018', '1.2.4', '4.0.3 and up'], ['Sketch - Draw & Paint', 'ART_AND_DESIGN', '4.5', '215644', '25M', '50,000,000+', 'Free', '0', 'Teen', 'Art & Design', 'June 8, 2018', 'Varies with device', '4.2 and up'], ['Pixel Draw - Number Art Coloring Book', 'ART_AND_DESIGN', '4.3', '967', '2.8M', '100,000+', 'Free', '0', 'Everyone', 'Art & Design;Creativity', 'June 20, 2018', '1.1', '4.4 and up'], ['Paper flowers instructions', 'ART_AND_DESIGN', '4.4', '167', '5.6M', '50,000+', 'Free', '0', 'Everyone', 'Art & Design', 'March 26, 2017', '1.0', '2.3 and up']]\n",
      "9660\n"
     ]
    }
   ],
   "source": [
    "android_dict = unique_dict(android, 0, 3, 11)\n",
    "\n",
    "dedupe_android_set = get_unique(android, android_dict, 0, 3, 11)\n",
    "\n",
    "print(dedupe_android_set[:6])\n",
    "\n",
    "print(len(dedupe_android_set))"
   ]
  },
  {
   "cell_type": "code",
   "execution_count": 13,
   "metadata": {},
   "outputs": [
    {
     "name": "stdout",
     "output_type": "stream",
     "text": [
      "[['id', 'track_name', 'size_bytes', 'currency', 'price', 'rating_count_tot', 'rating_count_ver', 'user_rating', 'user_rating_ver', 'ver', 'cont_rating', 'prime_genre', 'sup_devices.num', 'ipadSc_urls.num', 'lang.num', 'vpp_lic'], ['284882215', 'Facebook', '389879808', 'USD', '0.0', '2974676', '212', '3.5', '3.5', '95.0', '4+', 'Social Networking', '37', '1', '29', '1'], ['389801252', 'Instagram', '113954816', 'USD', '0.0', '2161558', '1289', '4.5', '4.0', '10.23', '12+', 'Photo & Video', '37', '0', '29', '1'], ['529479190', 'Clash of Clans', '116476928', 'USD', '0.0', '2130805', '579', '4.5', '4.5', '9.24.12', '9+', 'Games', '38', '5', '18', '1'], ['420009108', 'Temple Run', '65921024', 'USD', '0.0', '1724546', '3842', '4.5', '4.0', '1.6.2', '9+', 'Games', '40', '5', '1', '1'], ['284035177', 'Pandora - Music & Radio', '130242560', 'USD', '0.0', '1126879', '3594', '4.0', '4.5', '8.4.1', '12+', 'Music', '37', '4', '1', '1']]\n",
      "7196\n"
     ]
    }
   ],
   "source": [
    "apple_dict = unique_dict(apple, 1, 5, 9)\n",
    "\n",
    "dedupe_apple_set = get_unique(apple, apple_dict, 1, 5, 9)\n",
    "\n",
    "print(dedupe_apple_set[:6])\n",
    "\n",
    "print(len(dedupe_apple_set))"
   ]
  },
  {
   "cell_type": "code",
   "execution_count": 14,
   "metadata": {},
   "outputs": [],
   "source": [
    "def non_english(data_set, n):\n",
    "    english_data = [data_set[0]]\n",
    "    for row in data_set[1:]:\n",
    "        name = row[n]\n",
    "        count = 0\n",
    "        for character in name:\n",
    "            if ord(character) > 127:\n",
    "                count += 1\n",
    "        if count <= 3: \n",
    "            english_data.append(row)\n",
    "    return english_data"
   ]
  },
  {
   "cell_type": "code",
   "execution_count": 15,
   "metadata": {
    "scrolled": true
   },
   "outputs": [
    {
     "name": "stdout",
     "output_type": "stream",
     "text": [
      "[['App', 'Category', 'Rating', 'Reviews', 'Size', 'Installs', 'Type', 'Price', 'Content Rating', 'Genres', 'Last Updated', 'Current Ver', 'Android Ver'], ['Photo Editor & Candy Camera & Grid & ScrapBook', 'ART_AND_DESIGN', '4.1', '159', '19M', '10,000+', 'Free', '0', 'Everyone', 'Art & Design', 'January 7, 2018', '1.0.0', '4.0.3 and up'], ['U Launcher Lite – FREE Live Cool Themes, Hide Apps', 'ART_AND_DESIGN', '4.7', '87510', '8.7M', '5,000,000+', 'Free', '0', 'Everyone', 'Art & Design', 'August 1, 2018', '1.2.4', '4.0.3 and up'], ['Sketch - Draw & Paint', 'ART_AND_DESIGN', '4.5', '215644', '25M', '50,000,000+', 'Free', '0', 'Teen', 'Art & Design', 'June 8, 2018', 'Varies with device', '4.2 and up'], ['Pixel Draw - Number Art Coloring Book', 'ART_AND_DESIGN', '4.3', '967', '2.8M', '100,000+', 'Free', '0', 'Everyone', 'Art & Design;Creativity', 'June 20, 2018', '1.1', '4.4 and up'], ['Paper flowers instructions', 'ART_AND_DESIGN', '4.4', '167', '5.6M', '50,000+', 'Free', '0', 'Everyone', 'Art & Design', 'March 26, 2017', '1.0', '2.3 and up']]\n",
      "9615\n"
     ]
    }
   ],
   "source": [
    "english_android = non_english(dedupe_android_set, 0)\n",
    "print(english_android[:6])\n",
    "print(len(english_android))"
   ]
  },
  {
   "cell_type": "code",
   "execution_count": 16,
   "metadata": {},
   "outputs": [
    {
     "name": "stdout",
     "output_type": "stream",
     "text": [
      "[['id', 'track_name', 'size_bytes', 'currency', 'price', 'rating_count_tot', 'rating_count_ver', 'user_rating', 'user_rating_ver', 'ver', 'cont_rating', 'prime_genre', 'sup_devices.num', 'ipadSc_urls.num', 'lang.num', 'vpp_lic'], ['284882215', 'Facebook', '389879808', 'USD', '0.0', '2974676', '212', '3.5', '3.5', '95.0', '4+', 'Social Networking', '37', '1', '29', '1'], ['389801252', 'Instagram', '113954816', 'USD', '0.0', '2161558', '1289', '4.5', '4.0', '10.23', '12+', 'Photo & Video', '37', '0', '29', '1'], ['529479190', 'Clash of Clans', '116476928', 'USD', '0.0', '2130805', '579', '4.5', '4.5', '9.24.12', '9+', 'Games', '38', '5', '18', '1'], ['420009108', 'Temple Run', '65921024', 'USD', '0.0', '1724546', '3842', '4.5', '4.0', '1.6.2', '9+', 'Games', '40', '5', '1', '1'], ['284035177', 'Pandora - Music & Radio', '130242560', 'USD', '0.0', '1126879', '3594', '4.0', '4.5', '8.4.1', '12+', 'Music', '37', '4', '1', '1']]\n",
      "6182\n"
     ]
    }
   ],
   "source": [
    "english_apple = non_english(dedupe_apple_set, 1)\n",
    "print(english_apple[:6])\n",
    "print(len(english_apple))"
   ]
  },
  {
   "cell_type": "code",
   "execution_count": 17,
   "metadata": {},
   "outputs": [],
   "source": [
    "def free_app(data_set, f):\n",
    "    free_set = [data_set[0]]\n",
    "    for row in data_set[1:]:\n",
    "        cost = row[f]\n",
    "        if cost == '0' or cost == '0.0':\n",
    "            free_set.append(row)\n",
    "    return free_set"
   ]
  },
  {
   "cell_type": "code",
   "execution_count": 18,
   "metadata": {},
   "outputs": [
    {
     "name": "stdout",
     "output_type": "stream",
     "text": [
      "[['App', 'Category', 'Rating', 'Reviews', 'Size', 'Installs', 'Type', 'Price', 'Content Rating', 'Genres', 'Last Updated', 'Current Ver', 'Android Ver'], ['Photo Editor & Candy Camera & Grid & ScrapBook', 'ART_AND_DESIGN', '4.1', '159', '19M', '10,000+', 'Free', '0', 'Everyone', 'Art & Design', 'January 7, 2018', '1.0.0', '4.0.3 and up'], ['U Launcher Lite – FREE Live Cool Themes, Hide Apps', 'ART_AND_DESIGN', '4.7', '87510', '8.7M', '5,000,000+', 'Free', '0', 'Everyone', 'Art & Design', 'August 1, 2018', '1.2.4', '4.0.3 and up'], ['Sketch - Draw & Paint', 'ART_AND_DESIGN', '4.5', '215644', '25M', '50,000,000+', 'Free', '0', 'Teen', 'Art & Design', 'June 8, 2018', 'Varies with device', '4.2 and up'], ['Pixel Draw - Number Art Coloring Book', 'ART_AND_DESIGN', '4.3', '967', '2.8M', '100,000+', 'Free', '0', 'Everyone', 'Art & Design;Creativity', 'June 20, 2018', '1.1', '4.4 and up'], ['Paper flowers instructions', 'ART_AND_DESIGN', '4.4', '167', '5.6M', '50,000+', 'Free', '0', 'Everyone', 'Art & Design', 'March 26, 2017', '1.0', '2.3 and up']]\n",
      "8864\n"
     ]
    }
   ],
   "source": [
    "final_android = free_app(english_android, 7)\n",
    "print(final_android[:6])\n",
    "print(len(final_android))"
   ]
  },
  {
   "cell_type": "code",
   "execution_count": 19,
   "metadata": {},
   "outputs": [
    {
     "name": "stdout",
     "output_type": "stream",
     "text": [
      "[['id', 'track_name', 'size_bytes', 'currency', 'price', 'rating_count_tot', 'rating_count_ver', 'user_rating', 'user_rating_ver', 'ver', 'cont_rating', 'prime_genre', 'sup_devices.num', 'ipadSc_urls.num', 'lang.num', 'vpp_lic'], ['284882215', 'Facebook', '389879808', 'USD', '0.0', '2974676', '212', '3.5', '3.5', '95.0', '4+', 'Social Networking', '37', '1', '29', '1'], ['389801252', 'Instagram', '113954816', 'USD', '0.0', '2161558', '1289', '4.5', '4.0', '10.23', '12+', 'Photo & Video', '37', '0', '29', '1'], ['529479190', 'Clash of Clans', '116476928', 'USD', '0.0', '2130805', '579', '4.5', '4.5', '9.24.12', '9+', 'Games', '38', '5', '18', '1'], ['420009108', 'Temple Run', '65921024', 'USD', '0.0', '1724546', '3842', '4.5', '4.0', '1.6.2', '9+', 'Games', '40', '5', '1', '1'], ['284035177', 'Pandora - Music & Radio', '130242560', 'USD', '0.0', '1126879', '3594', '4.0', '4.5', '8.4.1', '12+', 'Music', '37', '4', '1', '1']]\n",
      "3221\n"
     ]
    }
   ],
   "source": [
    "final_apple = free_app(english_apple, 4)\n",
    "print(final_apple[:6])\n",
    "print(len(final_apple))"
   ]
  },
  {
   "cell_type": "code",
   "execution_count": 20,
   "metadata": {},
   "outputs": [],
   "source": [
    "def get_freq(data_set, i):\n",
    "    value_freq = {}\n",
    "    for row in data_set[1:]:\n",
    "        value = row[i]\n",
    "        if value in value_freq:\n",
    "            value_freq[value] += 1\n",
    "        else:\n",
    "            value_freq[value] = 1\n",
    "    \n",
    "    total = len(data_set)\n",
    "    percent_table = {}\n",
    "    for key, value in value_freq.items():\n",
    "        percent_table[key] = round(((value / total) * 100), 2)\n",
    "    return percent_table\n",
    "\n",
    "\n",
    "def sort_freq(data_set):\n",
    "    sort_percentage = {k: v for k, v in sorted(data_set.items(), key = lambda item: item[1], reverse = True)}\n",
    "    for key, value in sort_percentage.items():\n",
    "        print(key, \" : \", value)"
   ]
  },
  {
   "cell_type": "code",
   "execution_count": 48,
   "metadata": {
    "scrolled": false
   },
   "outputs": [
    {
     "name": "stdout",
     "output_type": "stream",
     "text": [
      "FAMILY  :  18.9\n",
      "GAME  :  9.72\n",
      "TOOLS  :  8.46\n",
      "BUSINESS  :  4.58\n",
      "LIFESTYLE  :  3.9\n",
      "PRODUCTIVITY  :  3.89\n",
      "FINANCE  :  3.7\n",
      "MEDICAL  :  3.52\n",
      "SPORTS  :  3.4\n",
      "PERSONALIZATION  :  3.32\n",
      "COMMUNICATION  :  3.25\n",
      "HEALTH_AND_FITNESS  :  3.08\n",
      "PHOTOGRAPHY  :  2.94\n",
      "NEWS_AND_MAGAZINES  :  2.8\n",
      "SOCIAL  :  2.66\n",
      "TRAVEL_AND_LOCAL  :  2.34\n",
      "SHOPPING  :  2.25\n",
      "BOOKS_AND_REFERENCE  :  2.14\n",
      "DATING  :  1.86\n",
      "VIDEO_PLAYERS  :  1.79\n",
      "MAPS_AND_NAVIGATION  :  1.4\n",
      "FOOD_AND_DRINK  :  1.24\n",
      "EDUCATION  :  1.17\n",
      "ENTERTAINMENT  :  0.96\n",
      "LIBRARIES_AND_DEMO  :  0.94\n",
      "AUTO_AND_VEHICLES  :  0.93\n",
      "HOUSE_AND_HOME  :  0.82\n",
      "WEATHER  :  0.8\n",
      "EVENTS  :  0.71\n",
      "PARENTING  :  0.65\n",
      "ART_AND_DESIGN  :  0.64\n",
      "COMICS  :  0.62\n",
      "BEAUTY  :  0.6\n"
     ]
    }
   ],
   "source": [
    "android_genre_1 = get_freq(final_android, 1)\n",
    "sort_freq(android_genre_1)"
   ]
  },
  {
   "cell_type": "code",
   "execution_count": 47,
   "metadata": {
    "scrolled": false
   },
   "outputs": [
    {
     "name": "stdout",
     "output_type": "stream",
     "text": [
      "Tools  :  8.45\n",
      "Entertainment  :  6.07\n",
      "Education  :  5.35\n",
      "Business  :  4.58\n",
      "Lifestyle  :  3.89\n",
      "Productivity  :  3.89\n",
      "Finance  :  3.7\n",
      "Medical  :  3.52\n",
      "Sports  :  3.46\n",
      "Personalization  :  3.32\n",
      "Communication  :  3.25\n",
      "Action  :  3.1\n",
      "Health & Fitness  :  3.08\n",
      "Photography  :  2.94\n",
      "News & Magazines  :  2.8\n",
      "Social  :  2.66\n",
      "Travel & Local  :  2.32\n",
      "Shopping  :  2.25\n",
      "Books & Reference  :  2.14\n",
      "Simulation  :  2.04\n",
      "Dating  :  1.86\n",
      "Arcade  :  1.86\n",
      "Video Players & Editors  :  1.77\n",
      "Casual  :  1.75\n",
      "Maps & Navigation  :  1.4\n",
      "Food & Drink  :  1.24\n",
      "Puzzle  :  1.13\n",
      "Racing  :  0.99\n",
      "Libraries & Demo  :  0.94\n",
      "Role Playing  :  0.94\n",
      "Auto & Vehicles  :  0.93\n",
      "Strategy  :  0.91\n",
      "House & Home  :  0.82\n",
      "Weather  :  0.8\n",
      "Events  :  0.71\n",
      "Adventure  :  0.68\n",
      "Comics  :  0.61\n",
      "Art & Design  :  0.6\n",
      "Beauty  :  0.6\n",
      "Parenting  :  0.5\n",
      "Card  :  0.45\n",
      "Casino  :  0.43\n",
      "Trivia  :  0.42\n",
      "Educational;Education  :  0.39\n",
      "Board  :  0.38\n",
      "Educational  :  0.37\n",
      "Education;Education  :  0.34\n",
      "Word  :  0.26\n",
      "Casual;Pretend Play  :  0.24\n",
      "Music  :  0.2\n",
      "Entertainment;Music & Video  :  0.17\n",
      "Puzzle;Brain Games  :  0.17\n",
      "Racing;Action & Adventure  :  0.17\n",
      "Casual;Brain Games  :  0.14\n",
      "Casual;Action & Adventure  :  0.14\n",
      "Arcade;Action & Adventure  :  0.12\n",
      "Action;Action & Adventure  :  0.1\n",
      "Educational;Pretend Play  :  0.09\n",
      "Entertainment;Brain Games  :  0.08\n",
      "Simulation;Action & Adventure  :  0.08\n",
      "Board;Brain Games  :  0.08\n",
      "Parenting;Education  :  0.08\n",
      "Art & Design;Creativity  :  0.07\n",
      "Educational;Brain Games  :  0.07\n",
      "Casual;Creativity  :  0.07\n",
      "Parenting;Music & Video  :  0.07\n",
      "Education;Pretend Play  :  0.06\n",
      "Education;Creativity  :  0.05\n",
      "Role Playing;Pretend Play  :  0.05\n",
      "Education;Brain Games  :  0.03\n",
      "Entertainment;Creativity  :  0.03\n",
      "Educational;Creativity  :  0.03\n",
      "Adventure;Action & Adventure  :  0.03\n",
      "Role Playing;Action & Adventure  :  0.03\n",
      "Educational;Action & Adventure  :  0.03\n",
      "Entertainment;Action & Adventure  :  0.03\n",
      "Puzzle;Action & Adventure  :  0.03\n",
      "Education;Action & Adventure  :  0.03\n",
      "Education;Music & Video  :  0.03\n",
      "Casual;Education  :  0.02\n",
      "Music;Music & Video  :  0.02\n",
      "Simulation;Pretend Play  :  0.02\n",
      "Puzzle;Creativity  :  0.02\n",
      "Sports;Action & Adventure  :  0.02\n",
      "Board;Action & Adventure  :  0.02\n",
      "Entertainment;Pretend Play  :  0.02\n",
      "Video Players & Editors;Music & Video  :  0.02\n",
      "Comics;Creativity  :  0.01\n",
      "Lifestyle;Pretend Play  :  0.01\n",
      "Art & Design;Pretend Play  :  0.01\n",
      "Entertainment;Education  :  0.01\n",
      "Arcade;Pretend Play  :  0.01\n",
      "Art & Design;Action & Adventure  :  0.01\n",
      "Strategy;Action & Adventure  :  0.01\n",
      "Music & Audio;Music & Video  :  0.01\n",
      "Health & Fitness;Education  :  0.01\n",
      "Casual;Music & Video  :  0.01\n",
      "Travel & Local;Action & Adventure  :  0.01\n",
      "Tools;Education  :  0.01\n",
      "Parenting;Brain Games  :  0.01\n",
      "Video Players & Editors;Creativity  :  0.01\n",
      "Health & Fitness;Action & Adventure  :  0.01\n",
      "Trivia;Education  :  0.01\n",
      "Lifestyle;Education  :  0.01\n",
      "Card;Action & Adventure  :  0.01\n",
      "Books & Reference;Education  :  0.01\n",
      "Simulation;Education  :  0.01\n",
      "Puzzle;Education  :  0.01\n",
      "Adventure;Education  :  0.01\n",
      "Role Playing;Brain Games  :  0.01\n",
      "Strategy;Education  :  0.01\n",
      "Racing;Pretend Play  :  0.01\n",
      "Communication;Creativity  :  0.01\n",
      "Strategy;Creativity  :  0.01\n"
     ]
    }
   ],
   "source": [
    "android_genre_2 = get_freq(final_android, -4)\n",
    "sort_freq(android_genre_2)"
   ]
  },
  {
   "cell_type": "code",
   "execution_count": 46,
   "metadata": {
    "scrolled": false
   },
   "outputs": [
    {
     "name": "stdout",
     "output_type": "stream",
     "text": [
      "Games  :  58.12\n",
      "Entertainment  :  7.89\n",
      "Photo & Video  :  4.97\n",
      "Education  :  3.66\n",
      "Social Networking  :  3.29\n",
      "Shopping  :  2.61\n",
      "Utilities  :  2.51\n",
      "Sports  :  2.14\n",
      "Music  :  2.05\n",
      "Health & Fitness  :  2.02\n",
      "Productivity  :  1.74\n",
      "Lifestyle  :  1.58\n",
      "News  :  1.33\n",
      "Travel  :  1.24\n",
      "Finance  :  1.12\n",
      "Weather  :  0.87\n",
      "Food & Drink  :  0.81\n",
      "Reference  :  0.56\n",
      "Business  :  0.53\n",
      "Book  :  0.43\n",
      "Navigation  :  0.19\n",
      "Medical  :  0.19\n",
      "Catalogs  :  0.12\n"
     ]
    }
   ],
   "source": [
    "apple_genre = get_freq(final_apple, 11)\n",
    "sort_freq(apple_genre)"
   ]
  },
  {
   "cell_type": "code",
   "execution_count": 41,
   "metadata": {},
   "outputs": [],
   "source": [
    "def avg_user(data_set, genre_dict, g, u): \n",
    "    rating_dict = {}\n",
    "    for genre, freq in genre_dict.items():\n",
    "        total = 0\n",
    "        user_ratings = 0\n",
    "        for row in data_set:\n",
    "            data_genre = row[g]\n",
    "            if data_genre == genre:\n",
    "                user_ratings += int(row[u])\n",
    "                total += 1\n",
    "        rating_dict[genre] = round((user_ratings / total),2)\n",
    "    return rating_dict"
   ]
  },
  {
   "cell_type": "code",
   "execution_count": 52,
   "metadata": {},
   "outputs": [
    {
     "name": "stdout",
     "output_type": "stream",
     "text": [
      "COMMUNICATION  :  992212.35\n",
      "SOCIAL  :  965830.99\n",
      "GAME  :  683285.55\n",
      "VIDEO_PLAYERS  :  425350.08\n",
      "PHOTOGRAPHY  :  403803.21\n",
      "TOOLS  :  305670.33\n",
      "ENTERTAINMENT  :  301752.25\n",
      "SHOPPING  :  223887.35\n",
      "PERSONALIZATION  :  181122.32\n",
      "WEATHER  :  171250.77\n",
      "PRODUCTIVITY  :  160634.54\n",
      "MAPS_AND_NAVIGATION  :  142860.05\n",
      "TRAVEL_AND_LOCAL  :  129484.43\n",
      "SPORTS  :  116938.61\n",
      "FAMILY  :  113148.05\n",
      "NEWS_AND_MAGAZINES  :  93088.03\n",
      "BOOKS_AND_REFERENCE  :  87995.07\n",
      "HEALTH_AND_FITNESS  :  78094.97\n",
      "FOOD_AND_DRINK  :  57478.79\n",
      "EDUCATION  :  55791.0\n",
      "COMICS  :  42585.62\n",
      "FINANCE  :  38535.9\n",
      "LIFESTYLE  :  33921.82\n",
      "HOUSE_AND_HOME  :  26435.47\n",
      "ART_AND_DESIGN  :  24699.42\n",
      "BUSINESS  :  23834.31\n",
      "DATING  :  21953.27\n",
      "PARENTING  :  16378.71\n",
      "AUTO_AND_VEHICLES  :  14140.28\n",
      "LIBRARIES_AND_DEMO  :  10925.81\n",
      "BEAUTY  :  7476.23\n",
      "MEDICAL  :  3725.94\n",
      "EVENTS  :  2555.84\n"
     ]
    }
   ],
   "source": [
    "ur_rate_android = avg_user(final_android, android_genre_1, 1, 3)\n",
    "sort_freq(ur_rate_android)"
   ]
  },
  {
   "cell_type": "code",
   "execution_count": 58,
   "metadata": {
    "scrolled": false
   },
   "outputs": [
    {
     "name": "stdout",
     "output_type": "stream",
     "text": [
      "Facebook : 78158306\n",
      "Facebook Lite : 8606259\n",
      "Tumblr : 2955326\n",
      "Social network all in one 2018 : 1403\n",
      "Pinterest : 4305441\n",
      "TextNow - free text + calls : 441189\n",
      "Google+ : 4831125\n",
      "The Messenger App : 4919\n",
      "Messenger Pro : 13762\n",
      "Free Messages, Video, Chat,Text for Messenger Plus : 6086\n",
      "Telegram X : 70616\n",
      "The Video Messenger App : 1200\n",
      "Jodel - The Hyperlocal App : 76480\n",
      "Hide Something - Photo, Video : 225103\n",
      "Love Sticker : 33177\n",
      "Web Browser & Fast Explorer : 54768\n",
      "LiveMe - Video chat, new friends, and make money : 457197\n",
      "VidStatus app - Status Videos & Status Downloader : 25562\n",
      "Love Images : 16404\n",
      "Web Browser ( Fast & Secure Web Explorer) : 2508\n",
      "SPARK - Live random video chat & meet new people : 79658\n",
      "Golden telegram : 374\n",
      "Facebook Local : 4751\n",
      "Meet – Talk to Strangers Using Random Video Chat : 60562\n",
      "MobilePatrol Public Safety App : 22695\n",
      "💘 WhatsLov: Smileys of love, stickers and GIF : 22098\n",
      "HTC Social Plugin - Facebook : 13223\n",
      "Quora : 313633\n",
      "Kate Mobile for VK : 540930\n",
      "Family GPS tracker KidControl + GPS by SMS Locator : 57146\n",
      "Moment : 19583\n",
      "Text Me: Text Free, Call Free, Second Phone Number : 344921\n",
      "Text Free: WiFi Calling App : 83488\n",
      "Badoo - Free Chat & Dating App : 3781770\n",
      "Text free - Free Text + Call : 315441\n",
      "Tango - Live Video Broadcast : 3806669\n",
      "ooVoo Video Calls, Messaging & Stories : 1157004\n",
      "Whisper : 205803\n",
      "Blogger : 138026\n",
      "Bloglovin' : 8936\n",
      "Blogaway for Android (Blogger) : 4253\n",
      "Instagram : 66577446\n",
      "TwitCasting Live : 14835\n",
      "Stream - Live Video Community : 6388\n",
      "YouNow: Live Stream Video Chat : 309872\n",
      "Mirrativ: Live Stream Any App : 17955\n",
      "Snapchat : 17015352\n",
      "Banjo : 58341\n",
      "We Heart It : 637309\n",
      "MeetMe: Chat & Meet New People : 1259894\n",
      "Timehop : 161610\n",
      "Frontback - Social Photos : 19446\n",
      "LinkedIn : 1225367\n",
      "Path : 1520959\n",
      "SayHi Chat, Meet New People : 423138\n",
      "Tapatalk - 100,000+ Forums : 285820\n",
      "Couple - Relationship App : 33249\n",
      "Nextdoor - Local neighborhood news & classifieds : 51504\n",
      "LOVOO : 852455\n",
      "Jaumo Dating, Flirt & Live Video : 900064\n",
      "Patook - make platonic friends : 3677\n",
      "Zello PTT Walkie Talkie : 695613\n",
      "textPlus: Free Text & Calls : 382121\n",
      "magicApp Calling & Messaging : 207712\n",
      "Dating App, Flirt & Chat : W-Match : 175722\n",
      "uCiC- Videos and Photos on demand : 2052\n",
      "Meetup : 79130\n",
      "POF Free Dating App : 1175815\n",
      "Tagged - Meet, Chat & Dating : 486830\n",
      "SKOUT - Meet, Chat, Go Live : 1064076\n",
      "Mico- Stranger Chat Random video Chat, Live, Meet : 624557\n",
      "Waplog - Free Chat, Dating App, Meet Singles : 522018\n",
      "Tik Tok - including musical.ly : 5637451\n",
      "B-Messenger Video Chat : 12495\n",
      "BIGO LIVE - Live Stream : 2349421\n",
      "Greeting Cards & Wishes : 17350\n",
      "Share G - Images Sharing - Wallpapers App : 120\n",
      "H letter images : 17\n",
      "Instachat 😜 : 80987\n",
      "Fame Boom for Real Followers, Likes : 896118\n",
      "FollowMeter for Instagram : 90082\n",
      "Mali J : 185\n",
      "KDRAMA Amino for K-Drama Fans : 4046\n",
      "KPOP Amino for K-Pop Entertainment : 19047\n",
      "EXO-L Amino for EXO Fans : 5677\n",
      "Verdad o Reto : 826\n",
      "pixiv : 86956\n",
      "Join R, Community Engagement : 144\n",
      "U LIVE – Video Chat & Stream : 67611\n",
      "See U - Random video chat, video chat : 568\n",
      "What U See : 712\n",
      "U-Report : 241\n",
      "Meet U - Get Friends for Snapchat, Kik & Instagram : 4435\n",
      "VMate Lite - Funny Short Videos Social Network : 903\n",
      "V Bucks ProTips New : 594\n",
      "i-share AF/KLM (AFKL ishare) : 2\n",
      "Eternal Light AG : 30\n",
      "Message AI - Write Better Messages (Free) : 3\n",
      "Jamaa Amino for Animal Jam : 3873\n",
      "Legend - Animate Text in Video : 228737\n",
      "GUYZ - Gay Chat & Gay Dating : 41269\n",
      "eChallan Andhra Pradesh (AP) : 5\n",
      "Snaappy – 3D fun AR core communication platform : 16801\n",
      "Undertale AU Amino : 5369\n",
      "Au Pair : 58\n",
      "Media Sosial TNI AU : 88\n",
      "BA 3 Banjarmasin : 2\n",
      "iCard BD Plus : 2\n",
      "Movement BE : 20\n",
      "YAY - TBH : 2520\n",
      "Find My Friends : 305367\n",
      "BG LINKED (BGLINKED) : 22\n",
      "Zdravei.BG : 6\n",
      "BGKontakti London BG Kontakti : 4\n",
      "BGKontakti Bayern BG Kontakti : 32\n",
      "BGKontakti Vienna BG Kontakti : 111\n",
      "Discípulos em BH : 24\n",
      "BH Connect : 0\n",
      "Gayvox - Gay Lesbian Bi Dating : 3640\n",
      "Grindr - Gay chat : 284795\n",
      "Lesbian Chat & Dating - SPICY : 63765\n",
      "Alumni BJ : 2\n",
      "VK : 5793284\n",
      "BK Traffic Control cum Chart : 549\n",
      "Daily Murli Saar Widget : 308\n",
      "Myjob@BM : 1\n",
      "bm-Events : 0\n",
      "BOO! - Next Generation Messenger : 20675\n",
      "Wishbone - Compare Anything : 51569\n",
      "BR Chat Bot : 16\n",
      "Br Browser : 29\n",
      "Dr B R Ambedkar (Jai Bhim) : 2068\n",
      "Dr. B.R.Ambedkar : 1902\n",
      "Black Social : 22\n",
      "BT Communicator : 32\n",
      "BT Dating -Find your match, help cupid, be social : 158\n",
      "Fiesta by Tango - Find, Meet and Make New Friends : 112223\n",
      "Evasion.bz : 8\n",
      "CB Heroes : 5\n",
      "CG Districts : 14\n",
      "Digi-TV.ch : 62\n",
      "Students.ch : 5\n",
      "CJ Gospel Hour : 7\n",
      "Pekalongan CJ : 0\n",
      "Hashtags For Likes.co : 420\n",
      "CP Dialer : 64\n",
      "C.P. CERVANTES (TOBARRA) : 0\n",
      "Cyprus Police : 226\n",
      "Rande.cz : 398\n",
      "signály.cz : 38\n",
      "DB Event App : 37\n",
      "DC Comics Amino : 117\n",
      "DF BugMeNot : 7\n",
      "Noticias DF : 2\n",
      "Periscope - Live Video : 479939\n",
      "Daddyhunt: Gay Dating : 6450\n",
      "Free phone calls, free texting SMS on free number : 412888\n",
      "Phone Tracker : Family Locator : 231446\n",
      "HOLLA Live: Meet New People via Random Video Chat : 216513\n",
      "Dating.dk : 2111\n",
      "DK Murali : 65\n",
      "GirlTalk.dk : 3\n",
      "+Download 4 Instagram Twitter : 40467\n",
      "DM Me - Chat : 90\n",
      "DM for IG 😘 - Image & Video Saver for Instagram : 55\n",
      "Auto DM for Twitter 🔥 : 44\n",
      "DM Storage (for twitter) : 6\n",
      "Fake Chat (Direct Message) : 5985\n",
      "Otto DM : 0\n",
      "DN Blog : 20\n",
      "DP and Status for WhatsApp 2018 : 787\n",
      "Dp For Whatsapp : 39\n",
      "Profile Pictures and DP for Whatsapp : 48\n",
      "Dp for Facebook : 56\n",
      "Best DP and Status : 93\n",
      "Instant DP Downloader for Instagram : 38\n",
      "DP Display Pictures Life Quotes Motivational GM : 39\n",
      "Qeek for Instagram - Zoom profile insta DP : 12111\n",
      "DV Statistics : 6\n",
      "DW Streaming : 0\n",
      "News Dz : 3\n",
      "quran-DZ : 0\n",
      "TN e Sevai TN EB Bill Patta Citta EC Birth All Hub : 23\n",
      "TNEB Bill Online Payment (Tamil) : 7\n",
      "UP EB Bill Payment & Details : 3\n",
      "TN EC Online New : 7\n",
      "TN Patta /Chitta /EC New : 5\n",
      "EG Way Life : 0\n",
      "Equestria Amino for MLP : 8369\n",
      "Ek Maratha : 725\n",
      "Hum Ek Hain 2.02 : 2\n",
      "Sabka Malik Ek Sai : 17\n",
      "EO RAIPUR : 1\n",
      "Anime et Manga Amino en Français : 3782\n",
      "Hornet - Gay Social Network : 163679\n",
      "Amino: Communities and Chats : 1264084\n",
      "European Solidarity Corps : 9\n",
      "Reisedealz.eu : 0\n",
      "Eddsworld Amino : 3071\n",
      "Rejoin Your Ex : 0\n",
      "Amleen Ey : 0\n",
      "Coupe Adhémar EY 2017 : 6\n",
      "EZ Video Download for Facebook : 34079\n",
      "Messages, Text and Video Chat for Messenger : 49580\n",
      "All Social Networks : 22650\n",
      "Messenger Messenger : 38826\n",
      "Facebook Creator : 3895\n",
      "Swift for Facebook Lite : 9562\n",
      "Friendly for Facebook : 42621\n",
      "Faster for Facebook Lite : 24456\n",
      "Puffin for Facebook : 10743\n",
      "Profile Tracker - Who Viewed My Facebook Profile : 37090\n",
      "Pink Color for Facebook : 5285\n",
      "Messenger : 68025\n",
      "Stickers for Imo, fb, whatsapp : 214\n",
      "Who Viewed My Facebook Profile - Stalkers Visitors : 273244\n",
      "Downloader plus for FB : 4\n",
      "MB Notifications for FB (Free) : 3047\n",
      "Phoenix - Facebook & Messenger : 9606\n",
      "Faster Social for Facebook : 1236\n",
      "Check Your Visitors on FB ? : 40\n",
      "Stickers for Facebook : 11066\n",
      "Lite Messenger for Facebook Lite : 108\n",
      "Mini for Facebook lite : 260\n",
      "FB Advanced Search : 2\n",
      "funny Image Comments for FB : 19\n",
      "Unlimited Group Links - Whatsapp, FB, Telegram : 44\n",
      "FCB Connect - FC Barcelona : 795\n",
      "Frases Cristianas de Esperanza y Fe : 2\n",
      "FutureNet your social app : 2093\n",
      "Alarm.fo – choose your info : 19\n",
      "FunForMobile Ringtones & Chat : 68358\n",
      "Chat For Strangers - Video Chat : 622\n",
      "Fr Daoud Lamei : 2036\n",
      "Naruto & Boruto FR : 7\n",
      "Frim: get new friends on local chat rooms : 88486\n"
     ]
    }
   ],
   "source": [
    "for app in final_android:\n",
    "    genre = app[1]\n",
    "    if genre == 'SOCIAL':\n",
    "        print(app[0], \":\", app[3])"
   ]
  },
  {
   "cell_type": "code",
   "execution_count": 44,
   "metadata": {},
   "outputs": [
    {
     "name": "stdout",
     "output_type": "stream",
     "text": [
      "Navigation  :  86090.33\n",
      "Reference  :  74942.11\n",
      "Social Networking  :  71548.35\n",
      "Music  :  57326.53\n",
      "Weather  :  52279.89\n",
      "Book  :  39758.5\n",
      "Food & Drink  :  33333.92\n",
      "Finance  :  31467.94\n",
      "Photo & Video  :  28441.54\n",
      "Travel  :  28243.8\n",
      "Shopping  :  26919.69\n",
      "Health & Fitness  :  23298.02\n",
      "Sports  :  23008.9\n",
      "Games  :  22812.92\n",
      "News  :  21248.02\n",
      "Productivity  :  21028.41\n",
      "Utilities  :  18684.46\n",
      "Lifestyle  :  16485.76\n",
      "Entertainment  :  14029.83\n",
      "Business  :  7491.12\n",
      "Education  :  7003.98\n",
      "Catalogs  :  4004.0\n",
      "Medical  :  612.0\n"
     ]
    }
   ],
   "source": [
    "ur_rate_apple = avg_user(final_apple, apple_genre, 11, 5)\n",
    "sort_freq(ur_rate_apple)"
   ]
  },
  {
   "cell_type": "code",
   "execution_count": 50,
   "metadata": {},
   "outputs": [
    {
     "name": "stdout",
     "output_type": "stream",
     "text": [
      "Waze - GPS Navigation, Maps & Real-time Traffic : 345046\n",
      "Google Maps - Navigation & Transit : 154911\n",
      "Geocaching® : 12811\n",
      "CoPilot GPS – Car Navigation & Offline Maps : 3582\n",
      "ImmobilienScout24: Real Estate Search in Germany : 187\n",
      "Railway Route Search : 5\n"
     ]
    }
   ],
   "source": [
    "for app in final_apple:\n",
    "    genre = app[11]\n",
    "    if genre == 'Navigation':\n",
    "        print(app[1], \":\", app[5])"
   ]
  },
  {
   "cell_type": "code",
   "execution_count": 59,
   "metadata": {},
   "outputs": [
    {
     "name": "stdout",
     "output_type": "stream",
     "text": [
      "Bible : 985920\n",
      "Dictionary.com Dictionary & Thesaurus : 200047\n",
      "Dictionary.com Dictionary & Thesaurus for iPad : 54175\n",
      "Google Translate : 26786\n",
      "Muslim Pro: Ramadan 2017 Prayer Times, Azan, Quran : 18418\n",
      "New Furniture Mods - Pocket Wiki & Game Tools for Minecraft PC Edition : 17588\n",
      "Merriam-Webster Dictionary : 16849\n",
      "Night Sky : 12122\n",
      "City Maps for Minecraft PE - The Best Maps for Minecraft Pocket Edition (MCPE) : 8535\n",
      "LUCKY BLOCK MOD ™ for Minecraft PC Edition - The Best Pocket Wiki & Mods Installer Tools : 4693\n",
      "GUNS MODS for Minecraft PC Edition - Mods Tools : 1497\n",
      "Guides for Pokémon GO - Pokemon GO News and Cheats : 826\n",
      "WWDC : 762\n",
      "Horror Maps for Minecraft PE - Download The Scariest Maps for Minecraft Pocket Edition (MCPE) Free : 718\n",
      "VPN Express : 14\n",
      "Real Bike Traffic Rider Virtual Reality Glasses : 8\n",
      "教えて!goo : 0\n",
      "Jishokun-Japanese English Dictionary & Translator : 0\n"
     ]
    }
   ],
   "source": [
    "for app in final_apple:\n",
    "    genre = app[11]\n",
    "    if genre == 'Reference':\n",
    "        print(app[1], \":\", app[5])"
   ]
  },
  {
   "cell_type": "code",
   "execution_count": null,
   "metadata": {},
   "outputs": [],
   "source": []
  }
 ],
 "metadata": {
  "kernelspec": {
   "display_name": "Python 3",
   "language": "python",
   "name": "python3"
  },
  "language_info": {
   "codemirror_mode": {
    "name": "ipython",
    "version": 3
   },
   "file_extension": ".py",
   "mimetype": "text/x-python",
   "name": "python",
   "nbconvert_exporter": "python",
   "pygments_lexer": "ipython3",
   "version": "3.7.4"
  }
 },
 "nbformat": 4,
 "nbformat_minor": 2
}
