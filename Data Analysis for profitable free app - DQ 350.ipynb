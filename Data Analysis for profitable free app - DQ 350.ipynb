{
 "cells": [
  {
   "cell_type": "markdown",
   "metadata": {},
   "source": [
    "# Data Analysis for profitable free app on Android and iOS\n",
    "\n",
    "This is a data analysis project for a free app development company. Our goal here is to analyse the various influencing factors that drive users to download free apps from *iOS App Store* and *Android Play Store*. We will analyze data for existing free applications to identify the type, genere and other categorization of apps that are most profitable.\n",
    "\n",
    "This being a free app our only source of revenue is ads. Hence we will understand and map the features that drive users download a app and to stay loyal to the apps in spite of having to interact with ads. Also catalogue additional features that will sustain and grow this loyaltity and satisfaction, as such **retaining returning customers in addition to attracting new first time**."
   ]
  },
  {
   "cell_type": "markdown",
   "metadata": {},
   "source": [
    "## Data Gathering\n",
    "\n",
    "To understand the features to implement in the new app. We will first analyze exiting app information from the Apple Store and Google Play store. However considering that there are millions of apps to be considere we will work on a small subset of those apps for the purpose of this project. Below is the links to the data sets used for this purpose:\n",
    "\n",
    "1. A data set containing data of about approximately 10,000 Android apps from Google Play; the data was collected in August 2018. You can download the data set directly from [this link](https://dq-content.s3.amazonaws.com/350/googleplaystore.csv).\n",
    "\n",
    "\n",
    "2. A data set containing data about approximately 7,000 iOS apps from the App Store; the data was collected in July 2017. You can download the data set directly from [this link](https://dq-content.s3.amazonaws.com/350/AppleStore.csv)."
   ]
  },
  {
   "cell_type": "code",
   "execution_count": 1,
   "metadata": {},
   "outputs": [],
   "source": [
    "def explore_data(data_set, start = 0, end = 5, row_column_count = True):\n",
    "    print(data_set[0], '\\n')\n",
    "    data_subset = data_set[start + 1:end]\n",
    "    for row in data_subset:\n",
    "        print(row, '\\n')\n",
    "    if row_column_count:\n",
    "        print('# of columns:',len(data_set[0]))\n",
    "        print('# of rows:',len(data_set))"
   ]
  },
  {
   "cell_type": "code",
   "execution_count": 2,
   "metadata": {},
   "outputs": [
    {
     "name": "stdout",
     "output_type": "stream",
     "text": [
      "['App', 'Category', 'Rating', 'Reviews', 'Size', 'Installs', 'Type', 'Price', 'Content Rating', 'Genres', 'Last Updated', 'Current Ver', 'Android Ver'] \n",
      "\n",
      "['Photo Editor & Candy Camera & Grid & ScrapBook', 'ART_AND_DESIGN', '4.1', '159', '19M', '10,000+', 'Free', '0', 'Everyone', 'Art & Design', 'January 7, 2018', '1.0.0', '4.0.3 and up'] \n",
      "\n",
      "['Coloring book moana', 'ART_AND_DESIGN', '3.9', '967', '14M', '500,000+', 'Free', '0', 'Everyone', 'Art & Design;Pretend Play', 'January 15, 2018', '2.0.0', '4.0.3 and up'] \n",
      "\n",
      "['U Launcher Lite – FREE Live Cool Themes, Hide Apps', 'ART_AND_DESIGN', '4.7', '87510', '8.7M', '5,000,000+', 'Free', '0', 'Everyone', 'Art & Design', 'August 1, 2018', '1.2.4', '4.0.3 and up'] \n",
      "\n",
      "['Sketch - Draw & Paint', 'ART_AND_DESIGN', '4.5', '215644', '25M', '50,000,000+', 'Free', '0', 'Teen', 'Art & Design', 'June 8, 2018', 'Varies with device', '4.2 and up'] \n",
      "\n",
      "# of columns: 13\n",
      "# of rows: 10842\n"
     ]
    }
   ],
   "source": [
    "open_file = open('googleplaystore.csv')\n",
    "from csv import reader\n",
    "read_file = reader(open_file)\n",
    "android = list(read_file)\n",
    "explore_data(android)"
   ]
  },
  {
   "cell_type": "code",
   "execution_count": 3,
   "metadata": {},
   "outputs": [
    {
     "name": "stdout",
     "output_type": "stream",
     "text": [
      "['id', 'track_name', 'size_bytes', 'currency', 'price', 'rating_count_tot', 'rating_count_ver', 'user_rating', 'user_rating_ver', 'ver', 'cont_rating', 'prime_genre', 'sup_devices.num', 'ipadSc_urls.num', 'lang.num', 'vpp_lic'] \n",
      "\n",
      "['284882215', 'Facebook', '389879808', 'USD', '0.0', '2974676', '212', '3.5', '3.5', '95.0', '4+', 'Social Networking', '37', '1', '29', '1'] \n",
      "\n",
      "['389801252', 'Instagram', '113954816', 'USD', '0.0', '2161558', '1289', '4.5', '4.0', '10.23', '12+', 'Photo & Video', '37', '0', '29', '1'] \n",
      "\n",
      "['529479190', 'Clash of Clans', '116476928', 'USD', '0.0', '2130805', '579', '4.5', '4.5', '9.24.12', '9+', 'Games', '38', '5', '18', '1'] \n",
      "\n",
      "['420009108', 'Temple Run', '65921024', 'USD', '0.0', '1724546', '3842', '4.5', '4.0', '1.6.2', '9+', 'Games', '40', '5', '1', '1'] \n",
      "\n",
      "# of columns: 16\n",
      "# of rows: 7198\n"
     ]
    }
   ],
   "source": [
    "open_file = open('AppleStore.csv')\n",
    "from csv import reader\n",
    "read_file = reader(open_file)\n",
    "apple = list(read_file)\n",
    "explore_data(apple)"
   ]
  },
  {
   "cell_type": "code",
   "execution_count": 4,
   "metadata": {},
   "outputs": [],
   "source": [
    "def duplicates(data_set, column):\n",
    "    duplicate_set = []\n",
    "    unique_set = []\n",
    "    for row in data_set[1:]:\n",
    "        name = row[column]\n",
    "        if name in unique_set:\n",
    "            duplicate_set.append(name)\n",
    "        else:\n",
    "            unique_set.append(name)\n",
    "    print(\"Duplicate Apps: \", len(duplicate_set))\n",
    "    print(\"Unique Apps: \", len(unique_set))"
   ]
  },
  {
   "cell_type": "code",
   "execution_count": 5,
   "metadata": {},
   "outputs": [],
   "source": [
    "def incomplete_data(data_set):\n",
    "    length = len(data_set[0])\n",
    "    for row in data_set[1:]:\n",
    "        if len(row) < length:\n",
    "            data_set.remove(row)\n",
    "            print('Deleted: ', row)"
   ]
  },
  {
   "cell_type": "code",
   "execution_count": 6,
   "metadata": {},
   "outputs": [
    {
     "name": "stdout",
     "output_type": "stream",
     "text": [
      "Deleted:  ['Life Made WI-Fi Touchscreen Photo Frame', '1.9', '19', '3.0M', '1,000+', 'Free', '0', 'Everyone', '', 'February 11, 2018', '1.0.19', '4.0 and up']\n"
     ]
    }
   ],
   "source": [
    "incomplete_data(android)"
   ]
  },
  {
   "cell_type": "code",
   "execution_count": 7,
   "metadata": {},
   "outputs": [],
   "source": [
    "incomplete_data(apple)"
   ]
  },
  {
   "cell_type": "code",
   "execution_count": 8,
   "metadata": {},
   "outputs": [
    {
     "name": "stdout",
     "output_type": "stream",
     "text": [
      "Duplicate Apps:  1181\n",
      "Unique Apps:  9659\n"
     ]
    }
   ],
   "source": [
    "duplicates(android, 0)"
   ]
  },
  {
   "cell_type": "code",
   "execution_count": 9,
   "metadata": {},
   "outputs": [
    {
     "name": "stdout",
     "output_type": "stream",
     "text": [
      "Duplicate Apps:  2\n",
      "Unique Apps:  7195\n"
     ]
    }
   ],
   "source": [
    "duplicates(apple, 1)"
   ]
  },
  {
   "cell_type": "code",
   "execution_count": 10,
   "metadata": {},
   "outputs": [],
   "source": [
    "def unique_dict(data_set, n, r, v):\n",
    "    review_filter = {}\n",
    "    for row in data_set[1:]:\n",
    "        name = row[n]\n",
    "        reviews = row[r]\n",
    "        version = row[v]\n",
    "        if name in review_filter:\n",
    "            if version > review_filter[name][0]:\n",
    "                review_filter[name][0] = version\n",
    "                review_filter[name][1] = reviews\n",
    "            elif version == review_filter[name][0] and reviews > review_filter[name][1]:\n",
    "                review_filter[name][1] = reviews\n",
    "        else:\n",
    "            review_filter[name] = [version, reviews]\n",
    "    return review_filter"
   ]
  },
  {
   "cell_type": "code",
   "execution_count": 11,
   "metadata": {},
   "outputs": [],
   "source": [
    "def get_unique(data_set, unique_data_dict, n, r, v):\n",
    "    clean_data = [data_set[0]]\n",
    "    already_added = []\n",
    "    for row in data_set[1:]:\n",
    "        name = row[n]\n",
    "        reviews = row[r]\n",
    "        version = row[v]\n",
    "        if name not in already_added:\n",
    "            if unique_data_dict[name][0] == version and unique_data_dict[name][1] == reviews:\n",
    "                clean_data.append(row)\n",
    "                already_added.append(name)\n",
    "    return clean_data"
   ]
  },
  {
   "cell_type": "code",
   "execution_count": 12,
   "metadata": {},
   "outputs": [
    {
     "name": "stdout",
     "output_type": "stream",
     "text": [
      "[['App', 'Category', 'Rating', 'Reviews', 'Size', 'Installs', 'Type', 'Price', 'Content Rating', 'Genres', 'Last Updated', 'Current Ver', 'Android Ver'], ['Photo Editor & Candy Camera & Grid & ScrapBook', 'ART_AND_DESIGN', '4.1', '159', '19M', '10,000+', 'Free', '0', 'Everyone', 'Art & Design', 'January 7, 2018', '1.0.0', '4.0.3 and up'], ['U Launcher Lite – FREE Live Cool Themes, Hide Apps', 'ART_AND_DESIGN', '4.7', '87510', '8.7M', '5,000,000+', 'Free', '0', 'Everyone', 'Art & Design', 'August 1, 2018', '1.2.4', '4.0.3 and up'], ['Sketch - Draw & Paint', 'ART_AND_DESIGN', '4.5', '215644', '25M', '50,000,000+', 'Free', '0', 'Teen', 'Art & Design', 'June 8, 2018', 'Varies with device', '4.2 and up'], ['Pixel Draw - Number Art Coloring Book', 'ART_AND_DESIGN', '4.3', '967', '2.8M', '100,000+', 'Free', '0', 'Everyone', 'Art & Design;Creativity', 'June 20, 2018', '1.1', '4.4 and up'], ['Paper flowers instructions', 'ART_AND_DESIGN', '4.4', '167', '5.6M', '50,000+', 'Free', '0', 'Everyone', 'Art & Design', 'March 26, 2017', '1.0', '2.3 and up']]\n",
      "9660\n"
     ]
    }
   ],
   "source": [
    "android_dict = unique_dict(android, 0, 3, 11)\n",
    "\n",
    "dedupe_android_set = get_unique(android, android_dict, 0, 3, 11)\n",
    "\n",
    "print(dedupe_android_set[:6])\n",
    "\n",
    "print(len(dedupe_android_set))"
   ]
  },
  {
   "cell_type": "code",
   "execution_count": 13,
   "metadata": {},
   "outputs": [
    {
     "name": "stdout",
     "output_type": "stream",
     "text": [
      "[['id', 'track_name', 'size_bytes', 'currency', 'price', 'rating_count_tot', 'rating_count_ver', 'user_rating', 'user_rating_ver', 'ver', 'cont_rating', 'prime_genre', 'sup_devices.num', 'ipadSc_urls.num', 'lang.num', 'vpp_lic'], ['284882215', 'Facebook', '389879808', 'USD', '0.0', '2974676', '212', '3.5', '3.5', '95.0', '4+', 'Social Networking', '37', '1', '29', '1'], ['389801252', 'Instagram', '113954816', 'USD', '0.0', '2161558', '1289', '4.5', '4.0', '10.23', '12+', 'Photo & Video', '37', '0', '29', '1'], ['529479190', 'Clash of Clans', '116476928', 'USD', '0.0', '2130805', '579', '4.5', '4.5', '9.24.12', '9+', 'Games', '38', '5', '18', '1'], ['420009108', 'Temple Run', '65921024', 'USD', '0.0', '1724546', '3842', '4.5', '4.0', '1.6.2', '9+', 'Games', '40', '5', '1', '1'], ['284035177', 'Pandora - Music & Radio', '130242560', 'USD', '0.0', '1126879', '3594', '4.0', '4.5', '8.4.1', '12+', 'Music', '37', '4', '1', '1']]\n",
      "7196\n"
     ]
    }
   ],
   "source": [
    "apple_dict = unique_dict(apple, 1, 5, 9)\n",
    "\n",
    "dedupe_apple_set = get_unique(apple, apple_dict, 1, 5, 9)\n",
    "\n",
    "print(dedupe_apple_set[:6])\n",
    "\n",
    "print(len(dedupe_apple_set))"
   ]
  },
  {
   "cell_type": "code",
   "execution_count": 14,
   "metadata": {},
   "outputs": [],
   "source": [
    "def non_english(data_set, n):\n",
    "    english_data = [data_set[0]]\n",
    "    for row in data_set[1:]:\n",
    "        name = row[n]\n",
    "        count = 0\n",
    "        for character in name:\n",
    "            if ord(character) > 127:\n",
    "                count += 1\n",
    "        if count <= 3: \n",
    "            english_data.append(row)\n",
    "    return english_data"
   ]
  },
  {
   "cell_type": "code",
   "execution_count": 15,
   "metadata": {
    "scrolled": true
   },
   "outputs": [
    {
     "name": "stdout",
     "output_type": "stream",
     "text": [
      "[['App', 'Category', 'Rating', 'Reviews', 'Size', 'Installs', 'Type', 'Price', 'Content Rating', 'Genres', 'Last Updated', 'Current Ver', 'Android Ver'], ['Photo Editor & Candy Camera & Grid & ScrapBook', 'ART_AND_DESIGN', '4.1', '159', '19M', '10,000+', 'Free', '0', 'Everyone', 'Art & Design', 'January 7, 2018', '1.0.0', '4.0.3 and up'], ['U Launcher Lite – FREE Live Cool Themes, Hide Apps', 'ART_AND_DESIGN', '4.7', '87510', '8.7M', '5,000,000+', 'Free', '0', 'Everyone', 'Art & Design', 'August 1, 2018', '1.2.4', '4.0.3 and up'], ['Sketch - Draw & Paint', 'ART_AND_DESIGN', '4.5', '215644', '25M', '50,000,000+', 'Free', '0', 'Teen', 'Art & Design', 'June 8, 2018', 'Varies with device', '4.2 and up'], ['Pixel Draw - Number Art Coloring Book', 'ART_AND_DESIGN', '4.3', '967', '2.8M', '100,000+', 'Free', '0', 'Everyone', 'Art & Design;Creativity', 'June 20, 2018', '1.1', '4.4 and up'], ['Paper flowers instructions', 'ART_AND_DESIGN', '4.4', '167', '5.6M', '50,000+', 'Free', '0', 'Everyone', 'Art & Design', 'March 26, 2017', '1.0', '2.3 and up']]\n",
      "9615\n"
     ]
    }
   ],
   "source": [
    "english_android = non_english(dedupe_android_set, 0)\n",
    "print(english_android[:6])\n",
    "print(len(english_android))"
   ]
  },
  {
   "cell_type": "code",
   "execution_count": 16,
   "metadata": {},
   "outputs": [
    {
     "name": "stdout",
     "output_type": "stream",
     "text": [
      "[['id', 'track_name', 'size_bytes', 'currency', 'price', 'rating_count_tot', 'rating_count_ver', 'user_rating', 'user_rating_ver', 'ver', 'cont_rating', 'prime_genre', 'sup_devices.num', 'ipadSc_urls.num', 'lang.num', 'vpp_lic'], ['284882215', 'Facebook', '389879808', 'USD', '0.0', '2974676', '212', '3.5', '3.5', '95.0', '4+', 'Social Networking', '37', '1', '29', '1'], ['389801252', 'Instagram', '113954816', 'USD', '0.0', '2161558', '1289', '4.5', '4.0', '10.23', '12+', 'Photo & Video', '37', '0', '29', '1'], ['529479190', 'Clash of Clans', '116476928', 'USD', '0.0', '2130805', '579', '4.5', '4.5', '9.24.12', '9+', 'Games', '38', '5', '18', '1'], ['420009108', 'Temple Run', '65921024', 'USD', '0.0', '1724546', '3842', '4.5', '4.0', '1.6.2', '9+', 'Games', '40', '5', '1', '1'], ['284035177', 'Pandora - Music & Radio', '130242560', 'USD', '0.0', '1126879', '3594', '4.0', '4.5', '8.4.1', '12+', 'Music', '37', '4', '1', '1']]\n",
      "6182\n"
     ]
    }
   ],
   "source": [
    "english_apple = non_english(dedupe_apple_set, 1)\n",
    "print(english_apple[:6])\n",
    "print(len(english_apple))"
   ]
  },
  {
   "cell_type": "code",
   "execution_count": 17,
   "metadata": {},
   "outputs": [],
   "source": [
    "def free_app(data_set, f):\n",
    "    free_set = [data_set[0]]\n",
    "    for row in data_set[1:]:\n",
    "        cost = row[f]\n",
    "        if cost == '0' or cost == '0.0':\n",
    "            free_set.append(row)\n",
    "    return free_set"
   ]
  },
  {
   "cell_type": "code",
   "execution_count": 18,
   "metadata": {},
   "outputs": [
    {
     "name": "stdout",
     "output_type": "stream",
     "text": [
      "[['App', 'Category', 'Rating', 'Reviews', 'Size', 'Installs', 'Type', 'Price', 'Content Rating', 'Genres', 'Last Updated', 'Current Ver', 'Android Ver'], ['Photo Editor & Candy Camera & Grid & ScrapBook', 'ART_AND_DESIGN', '4.1', '159', '19M', '10,000+', 'Free', '0', 'Everyone', 'Art & Design', 'January 7, 2018', '1.0.0', '4.0.3 and up'], ['U Launcher Lite – FREE Live Cool Themes, Hide Apps', 'ART_AND_DESIGN', '4.7', '87510', '8.7M', '5,000,000+', 'Free', '0', 'Everyone', 'Art & Design', 'August 1, 2018', '1.2.4', '4.0.3 and up'], ['Sketch - Draw & Paint', 'ART_AND_DESIGN', '4.5', '215644', '25M', '50,000,000+', 'Free', '0', 'Teen', 'Art & Design', 'June 8, 2018', 'Varies with device', '4.2 and up'], ['Pixel Draw - Number Art Coloring Book', 'ART_AND_DESIGN', '4.3', '967', '2.8M', '100,000+', 'Free', '0', 'Everyone', 'Art & Design;Creativity', 'June 20, 2018', '1.1', '4.4 and up'], ['Paper flowers instructions', 'ART_AND_DESIGN', '4.4', '167', '5.6M', '50,000+', 'Free', '0', 'Everyone', 'Art & Design', 'March 26, 2017', '1.0', '2.3 and up']]\n",
      "8864\n"
     ]
    }
   ],
   "source": [
    "final_android = free_app(english_android, 7)\n",
    "print(final_android[:6])\n",
    "print(len(final_android))"
   ]
  },
  {
   "cell_type": "code",
   "execution_count": 19,
   "metadata": {},
   "outputs": [
    {
     "name": "stdout",
     "output_type": "stream",
     "text": [
      "[['id', 'track_name', 'size_bytes', 'currency', 'price', 'rating_count_tot', 'rating_count_ver', 'user_rating', 'user_rating_ver', 'ver', 'cont_rating', 'prime_genre', 'sup_devices.num', 'ipadSc_urls.num', 'lang.num', 'vpp_lic'], ['284882215', 'Facebook', '389879808', 'USD', '0.0', '2974676', '212', '3.5', '3.5', '95.0', '4+', 'Social Networking', '37', '1', '29', '1'], ['389801252', 'Instagram', '113954816', 'USD', '0.0', '2161558', '1289', '4.5', '4.0', '10.23', '12+', 'Photo & Video', '37', '0', '29', '1'], ['529479190', 'Clash of Clans', '116476928', 'USD', '0.0', '2130805', '579', '4.5', '4.5', '9.24.12', '9+', 'Games', '38', '5', '18', '1'], ['420009108', 'Temple Run', '65921024', 'USD', '0.0', '1724546', '3842', '4.5', '4.0', '1.6.2', '9+', 'Games', '40', '5', '1', '1'], ['284035177', 'Pandora - Music & Radio', '130242560', 'USD', '0.0', '1126879', '3594', '4.0', '4.5', '8.4.1', '12+', 'Music', '37', '4', '1', '1']]\n",
      "3221\n"
     ]
    }
   ],
   "source": [
    "final_apple = free_app(english_apple, 4)\n",
    "print(final_apple[:6])\n",
    "print(len(final_apple))"
   ]
  },
  {
   "cell_type": "code",
   "execution_count": 50,
   "metadata": {},
   "outputs": [],
   "source": [
    "def get_freq(data_set, i):\n",
    "    value_freq = {}\n",
    "    for row in data_set[1:]:\n",
    "        value = row[i]\n",
    "        if value in value_freq:\n",
    "            value_freq[value] += 1\n",
    "        else:\n",
    "            value_freq[value] = 1\n",
    "    \n",
    "    total = len(data_set)\n",
    "    percent_table = {}\n",
    "    for key, value in value_freq.items():\n",
    "        percent_table[key] = round(((value / total) * 100), 2)\n",
    "    \n",
    "    sort_percentage = {k: v for k, v in sorted(percent_table.items(), key = lambda item: item[1], reverse = True)}\n",
    "    for key, value in sort_percentage.items():\n",
    "        print(key, \" : \", value)"
   ]
  },
  {
   "cell_type": "code",
   "execution_count": 54,
   "metadata": {
    "scrolled": false
   },
   "outputs": [
    {
     "name": "stdout",
     "output_type": "stream",
     "text": [
      "FAMILY  :  18.9\n",
      "GAME  :  9.72\n",
      "TOOLS  :  8.46\n",
      "BUSINESS  :  4.58\n",
      "LIFESTYLE  :  3.9\n",
      "PRODUCTIVITY  :  3.89\n",
      "FINANCE  :  3.7\n",
      "MEDICAL  :  3.52\n",
      "SPORTS  :  3.4\n",
      "PERSONALIZATION  :  3.32\n",
      "COMMUNICATION  :  3.25\n",
      "HEALTH_AND_FITNESS  :  3.08\n",
      "PHOTOGRAPHY  :  2.94\n",
      "NEWS_AND_MAGAZINES  :  2.8\n",
      "SOCIAL  :  2.66\n",
      "TRAVEL_AND_LOCAL  :  2.34\n",
      "SHOPPING  :  2.25\n",
      "BOOKS_AND_REFERENCE  :  2.14\n",
      "DATING  :  1.86\n",
      "VIDEO_PLAYERS  :  1.79\n",
      "MAPS_AND_NAVIGATION  :  1.4\n",
      "FOOD_AND_DRINK  :  1.24\n",
      "EDUCATION  :  1.17\n",
      "ENTERTAINMENT  :  0.96\n",
      "LIBRARIES_AND_DEMO  :  0.94\n",
      "AUTO_AND_VEHICLES  :  0.93\n",
      "HOUSE_AND_HOME  :  0.82\n",
      "WEATHER  :  0.8\n",
      "EVENTS  :  0.71\n",
      "PARENTING  :  0.65\n",
      "ART_AND_DESIGN  :  0.64\n",
      "COMICS  :  0.62\n",
      "BEAUTY  :  0.6\n"
     ]
    }
   ],
   "source": [
    "android_genre = get_freq(final_android, 1)"
   ]
  },
  {
   "cell_type": "code",
   "execution_count": 56,
   "metadata": {
    "scrolled": false
   },
   "outputs": [
    {
     "name": "stdout",
     "output_type": "stream",
     "text": [
      "Tools  :  8.45\n",
      "Entertainment  :  6.07\n",
      "Education  :  5.35\n",
      "Business  :  4.58\n",
      "Lifestyle  :  3.89\n",
      "Productivity  :  3.89\n",
      "Finance  :  3.7\n",
      "Medical  :  3.52\n",
      "Sports  :  3.46\n",
      "Personalization  :  3.32\n",
      "Communication  :  3.25\n",
      "Action  :  3.1\n",
      "Health & Fitness  :  3.08\n",
      "Photography  :  2.94\n",
      "News & Magazines  :  2.8\n",
      "Social  :  2.66\n",
      "Travel & Local  :  2.32\n",
      "Shopping  :  2.25\n",
      "Books & Reference  :  2.14\n",
      "Simulation  :  2.04\n",
      "Dating  :  1.86\n",
      "Arcade  :  1.86\n",
      "Video Players & Editors  :  1.77\n",
      "Casual  :  1.75\n",
      "Maps & Navigation  :  1.4\n",
      "Food & Drink  :  1.24\n",
      "Puzzle  :  1.13\n",
      "Racing  :  0.99\n",
      "Libraries & Demo  :  0.94\n",
      "Role Playing  :  0.94\n",
      "Auto & Vehicles  :  0.93\n",
      "Strategy  :  0.91\n",
      "House & Home  :  0.82\n",
      "Weather  :  0.8\n",
      "Events  :  0.71\n",
      "Adventure  :  0.68\n",
      "Comics  :  0.61\n",
      "Art & Design  :  0.6\n",
      "Beauty  :  0.6\n",
      "Parenting  :  0.5\n",
      "Card  :  0.45\n",
      "Casino  :  0.43\n",
      "Trivia  :  0.42\n",
      "Educational;Education  :  0.39\n",
      "Board  :  0.38\n",
      "Educational  :  0.37\n",
      "Education;Education  :  0.34\n",
      "Word  :  0.26\n",
      "Casual;Pretend Play  :  0.24\n",
      "Music  :  0.2\n",
      "Entertainment;Music & Video  :  0.17\n",
      "Puzzle;Brain Games  :  0.17\n",
      "Racing;Action & Adventure  :  0.17\n",
      "Casual;Brain Games  :  0.14\n",
      "Casual;Action & Adventure  :  0.14\n",
      "Arcade;Action & Adventure  :  0.12\n",
      "Action;Action & Adventure  :  0.1\n",
      "Educational;Pretend Play  :  0.09\n",
      "Entertainment;Brain Games  :  0.08\n",
      "Simulation;Action & Adventure  :  0.08\n",
      "Board;Brain Games  :  0.08\n",
      "Parenting;Education  :  0.08\n",
      "Art & Design;Creativity  :  0.07\n",
      "Educational;Brain Games  :  0.07\n",
      "Casual;Creativity  :  0.07\n",
      "Parenting;Music & Video  :  0.07\n",
      "Education;Pretend Play  :  0.06\n",
      "Education;Creativity  :  0.05\n",
      "Role Playing;Pretend Play  :  0.05\n",
      "Education;Brain Games  :  0.03\n",
      "Entertainment;Creativity  :  0.03\n",
      "Educational;Creativity  :  0.03\n",
      "Adventure;Action & Adventure  :  0.03\n",
      "Role Playing;Action & Adventure  :  0.03\n",
      "Educational;Action & Adventure  :  0.03\n",
      "Entertainment;Action & Adventure  :  0.03\n",
      "Puzzle;Action & Adventure  :  0.03\n",
      "Education;Action & Adventure  :  0.03\n",
      "Education;Music & Video  :  0.03\n",
      "Casual;Education  :  0.02\n",
      "Music;Music & Video  :  0.02\n",
      "Simulation;Pretend Play  :  0.02\n",
      "Puzzle;Creativity  :  0.02\n",
      "Sports;Action & Adventure  :  0.02\n",
      "Board;Action & Adventure  :  0.02\n",
      "Entertainment;Pretend Play  :  0.02\n",
      "Video Players & Editors;Music & Video  :  0.02\n",
      "Comics;Creativity  :  0.01\n",
      "Lifestyle;Pretend Play  :  0.01\n",
      "Art & Design;Pretend Play  :  0.01\n",
      "Entertainment;Education  :  0.01\n",
      "Arcade;Pretend Play  :  0.01\n",
      "Art & Design;Action & Adventure  :  0.01\n",
      "Strategy;Action & Adventure  :  0.01\n",
      "Music & Audio;Music & Video  :  0.01\n",
      "Health & Fitness;Education  :  0.01\n",
      "Casual;Music & Video  :  0.01\n",
      "Travel & Local;Action & Adventure  :  0.01\n",
      "Tools;Education  :  0.01\n",
      "Parenting;Brain Games  :  0.01\n",
      "Video Players & Editors;Creativity  :  0.01\n",
      "Health & Fitness;Action & Adventure  :  0.01\n",
      "Trivia;Education  :  0.01\n",
      "Lifestyle;Education  :  0.01\n",
      "Card;Action & Adventure  :  0.01\n",
      "Books & Reference;Education  :  0.01\n",
      "Simulation;Education  :  0.01\n",
      "Puzzle;Education  :  0.01\n",
      "Adventure;Education  :  0.01\n",
      "Role Playing;Brain Games  :  0.01\n",
      "Strategy;Education  :  0.01\n",
      "Racing;Pretend Play  :  0.01\n",
      "Communication;Creativity  :  0.01\n",
      "Strategy;Creativity  :  0.01\n"
     ]
    }
   ],
   "source": [
    "android_genre = get_freq(final_android, -4)"
   ]
  },
  {
   "cell_type": "code",
   "execution_count": 57,
   "metadata": {
    "scrolled": false
   },
   "outputs": [
    {
     "name": "stdout",
     "output_type": "stream",
     "text": [
      "Games  :  58.12\n",
      "Entertainment  :  7.89\n",
      "Photo & Video  :  4.97\n",
      "Education  :  3.66\n",
      "Social Networking  :  3.29\n",
      "Shopping  :  2.61\n",
      "Utilities  :  2.51\n",
      "Sports  :  2.14\n",
      "Music  :  2.05\n",
      "Health & Fitness  :  2.02\n",
      "Productivity  :  1.74\n",
      "Lifestyle  :  1.58\n",
      "News  :  1.33\n",
      "Travel  :  1.24\n",
      "Finance  :  1.12\n",
      "Weather  :  0.87\n",
      "Food & Drink  :  0.81\n",
      "Reference  :  0.56\n",
      "Business  :  0.53\n",
      "Book  :  0.43\n",
      "Navigation  :  0.19\n",
      "Medical  :  0.19\n",
      "Catalogs  :  0.12\n"
     ]
    }
   ],
   "source": [
    "apple_genre = get_freq(final_apple, 11)"
   ]
  },
  {
   "cell_type": "code",
   "execution_count": 60,
   "metadata": {},
   "outputs": [],
   "source": [
    "def avg_user(data_set, genre_dict, g, u): \n",
    "    for genre in genre_dict:\n",
    "        total = 0\n",
    "        user_ratings = 0\n",
    "        for row in data_set:\n",
    "            data_genre = row[g]\n",
    "            if data_genre == genre:\n",
    "                user_ratings += row[u]\n",
    "                total += 1\n",
    "    print(genre, \":\", (user_ratings / total))"
   ]
  },
  {
   "cell_type": "code",
   "execution_count": null,
   "metadata": {},
   "outputs": [],
   "source": [
    "avg_user(, android_genre, 1, )"
   ]
  }
 ],
 "metadata": {
  "kernelspec": {
   "display_name": "Python 3",
   "language": "python",
   "name": "python3"
  },
  "language_info": {
   "codemirror_mode": {
    "name": "ipython",
    "version": 3
   },
   "file_extension": ".py",
   "mimetype": "text/x-python",
   "name": "python",
   "nbconvert_exporter": "python",
   "pygments_lexer": "ipython3",
   "version": "3.7.4"
  }
 },
 "nbformat": 4,
 "nbformat_minor": 2
}
