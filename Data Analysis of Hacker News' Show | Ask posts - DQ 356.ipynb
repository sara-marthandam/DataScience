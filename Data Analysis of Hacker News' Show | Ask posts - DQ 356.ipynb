{
 "cells": [
  {
   "cell_type": "markdown",
   "metadata": {},
   "source": [
    "# Data Analysis to find most popular posting times on Hacker News\n",
    "\n",
    "We will compare the HN Show posts and the HN Ask posts to identify if one is more popular than the other. We will use the vote count and the number of comments to derive our conclusion. \n",
    "\n",
    "In addition we will dwell depper into both types of post to understand if posts made on any one particular time of day attacts more attention than others. We will map the vote and comments against the post time to prepare this analysis."
   ]
  },
  {
   "cell_type": "code",
   "execution_count": 11,
   "metadata": {
    "scrolled": false
   },
   "outputs": [
    {
     "name": "stdout",
     "output_type": "stream",
     "text": [
      "Total Records:  20100\n"
     ]
    },
    {
     "data": {
      "text/plain": [
       "[['id', 'title', 'url', 'num_points', 'num_comments', 'author', 'created_at'],\n",
       " ['12224879',\n",
       "  'Interactive Dynamic Video',\n",
       "  'http://www.interactivedynamicvideo.com/',\n",
       "  '386',\n",
       "  '52',\n",
       "  'ne0phyte',\n",
       "  '8/4/2016 11:52'],\n",
       " ['10975351',\n",
       "  'How to Use Open Source and Shut the Fuck Up at the Same Time',\n",
       "  'http://hueniverse.com/2016/01/26/how-to-use-open-source-and-shut-the-fuck-up-at-the-same-time/',\n",
       "  '39',\n",
       "  '10',\n",
       "  'josep2',\n",
       "  '1/26/2016 19:30'],\n",
       " ['11964716',\n",
       "  \"Florida DJs May Face Felony for April Fools' Water Joke\",\n",
       "  'http://www.thewire.com/entertainment/2013/04/florida-djs-april-fools-water-joke/63798/',\n",
       "  '2',\n",
       "  '1',\n",
       "  'vezycash',\n",
       "  '6/23/2016 22:20'],\n",
       " ['11919867',\n",
       "  'Technology ventures: From Idea to Enterprise',\n",
       "  'https://www.amazon.com/Technology-Ventures-Enterprise-Thomas-Byers/dp/0073523429',\n",
       "  '3',\n",
       "  '1',\n",
       "  'hswarna',\n",
       "  '6/17/2016 0:01']]"
      ]
     },
     "execution_count": 11,
     "metadata": {},
     "output_type": "execute_result"
    }
   ],
   "source": [
    "from csv import reader\n",
    "f = open('hacker_news.csv')\n",
    "hn = list(reader(f))\n",
    "print('Total Records: ', len(hn[1:]))\n",
    "hn[:5]"
   ]
  },
  {
   "cell_type": "code",
   "execution_count": 12,
   "metadata": {},
   "outputs": [
    {
     "name": "stdout",
     "output_type": "stream",
     "text": [
      "['id', 'title', 'url', 'num_points', 'num_comments', 'author', 'created_at']\n"
     ]
    },
    {
     "data": {
      "text/plain": [
       "[['12224879',\n",
       "  'Interactive Dynamic Video',\n",
       "  'http://www.interactivedynamicvideo.com/',\n",
       "  '386',\n",
       "  '52',\n",
       "  'ne0phyte',\n",
       "  '8/4/2016 11:52'],\n",
       " ['10975351',\n",
       "  'How to Use Open Source and Shut the Fuck Up at the Same Time',\n",
       "  'http://hueniverse.com/2016/01/26/how-to-use-open-source-and-shut-the-fuck-up-at-the-same-time/',\n",
       "  '39',\n",
       "  '10',\n",
       "  'josep2',\n",
       "  '1/26/2016 19:30'],\n",
       " ['11964716',\n",
       "  \"Florida DJs May Face Felony for April Fools' Water Joke\",\n",
       "  'http://www.thewire.com/entertainment/2013/04/florida-djs-april-fools-water-joke/63798/',\n",
       "  '2',\n",
       "  '1',\n",
       "  'vezycash',\n",
       "  '6/23/2016 22:20'],\n",
       " ['11919867',\n",
       "  'Technology ventures: From Idea to Enterprise',\n",
       "  'https://www.amazon.com/Technology-Ventures-Enterprise-Thomas-Byers/dp/0073523429',\n",
       "  '3',\n",
       "  '1',\n",
       "  'hswarna',\n",
       "  '6/17/2016 0:01'],\n",
       " ['10301696',\n",
       "  'Note by Note: The Making of Steinway L1037 (2007)',\n",
       "  'http://www.nytimes.com/2007/11/07/movies/07stein.html?_r=0',\n",
       "  '8',\n",
       "  '2',\n",
       "  'walterbell',\n",
       "  '9/30/2015 4:12']]"
      ]
     },
     "execution_count": 12,
     "metadata": {},
     "output_type": "execute_result"
    }
   ],
   "source": [
    "header = hn[0]\n",
    "hn = hn[1:]\n",
    "print(header)\n",
    "hn[:5]"
   ]
  },
  {
   "cell_type": "code",
   "execution_count": 22,
   "metadata": {},
   "outputs": [
    {
     "name": "stdout",
     "output_type": "stream",
     "text": [
      "Ask Posts:  1744\n",
      "Show Posts:  1162\n",
      "Other Posts:  17194\n"
     ]
    }
   ],
   "source": [
    "ask_posts = []\n",
    "show_posts = []\n",
    "other_posts = []\n",
    "\n",
    "for row in hn:\n",
    "    title = (row[1]).lower()\n",
    "    if title.startswith('ask hn'):\n",
    "        ask_posts.append(row)\n",
    "    elif title.startswith('show hn'):\n",
    "        show_posts.append(row)\n",
    "    else:\n",
    "        other_posts.append(row)\n",
    "print('Ask Posts: ', len(ask_posts))\n",
    "print('Show Posts: ', len(show_posts))\n",
    "print('Other Posts: ', len(other_posts))"
   ]
  },
  {
   "cell_type": "code",
   "execution_count": 42,
   "metadata": {},
   "outputs": [],
   "source": [
    "def comment_count(data_set):\n",
    "    total_comments = 0\n",
    "    for row in data_set:\n",
    "        comment = int(row[4])\n",
    "        total_comments += comment\n",
    "    print('Total Comments:', total_comments)\n",
    "    print('Average Comments / post:', round((total_comments/len(data_set)), 2))"
   ]
  },
  {
   "cell_type": "code",
   "execution_count": 43,
   "metadata": {},
   "outputs": [
    {
     "name": "stdout",
     "output_type": "stream",
     "text": [
      "Total Comments: 24483\n",
      "Average Comments / post: 14.04\n"
     ]
    }
   ],
   "source": [
    "comment_count(ask_posts)"
   ]
  },
  {
   "cell_type": "code",
   "execution_count": 44,
   "metadata": {},
   "outputs": [
    {
     "name": "stdout",
     "output_type": "stream",
     "text": [
      "Total Comments: 11988\n",
      "Average Comments / post: 10.32\n"
     ]
    }
   ],
   "source": [
    "comment_count(show_posts)"
   ]
  },
  {
   "cell_type": "code",
   "execution_count": 58,
   "metadata": {},
   "outputs": [
    {
     "name": "stdout",
     "output_type": "stream",
     "text": [
      "{9: 45, 13: 85, 10: 59, 14: 107, 16: 108, 23: 68, 12: 73, 17: 100, 15: 116, 21: 109, 20: 80, 2: 58, 18: 109, 3: 54, 5: 46, 19: 110, 1: 60, 22: 71, 8: 48, 4: 47, 0: 55, 6: 44, 7: 34, 11: 58}\n",
      "{9: 251, 13: 1253, 10: 793, 14: 1416, 16: 1814, 23: 543, 12: 687, 17: 1146, 15: 4477, 21: 1745, 20: 1722, 2: 1381, 18: 1439, 3: 421, 5: 464, 19: 1188, 1: 683, 22: 479, 8: 492, 4: 337, 0: 447, 6: 397, 7: 267, 11: 641}\n"
     ]
    }
   ],
   "source": [
    "import datetime as dt\n",
    "\n",
    "result_list = []\n",
    "for row in ask_posts:\n",
    "    comments = row[4]\n",
    "    post_time_str = row[-1]\n",
    "    post_time = dt.datetime.strptime(post_time_str, '%m/%d/%Y %H:%M')\n",
    "    result_list.append([post_time, comments])\n",
    "\n",
    "counts_by_hour = {}\n",
    "comments_by_hour = {}\n",
    "for row in result_list:\n",
    "    comment_count = int(row[1])\n",
    "    post_hour = (row[0]).hour\n",
    "    if post_hour in counts_by_hour:\n",
    "        counts_by_hour[post_hour] += 1\n",
    "        comments_by_hour[post_hour] += comment_count\n",
    "    else:\n",
    "        counts_by_hour[post_hour] = 1\n",
    "        comments_by_hour[post_hour] = comment_count\n",
    "\n",
    "print(counts_by_hour)\n",
    "print(comments_by_hour)"
   ]
  },
  {
   "cell_type": "code",
   "execution_count": 60,
   "metadata": {},
   "outputs": [
    {
     "name": "stdout",
     "output_type": "stream",
     "text": [
      "{9: 5.5777777777777775, 13: 14.741176470588234, 10: 13.440677966101696, 14: 13.233644859813085, 16: 16.796296296296298, 23: 7.985294117647059, 12: 9.41095890410959, 17: 11.46, 15: 38.5948275862069, 21: 16.009174311926607, 20: 21.525, 2: 23.810344827586206, 18: 13.20183486238532, 3: 7.796296296296297, 5: 10.08695652173913, 19: 10.8, 1: 11.383333333333333, 22: 6.746478873239437, 8: 10.25, 4: 7.170212765957447, 0: 8.127272727272727, 6: 9.022727272727273, 7: 7.852941176470588, 11: 11.051724137931034}\n"
     ]
    }
   ],
   "source": [
    "avg_by_hour = {}\n",
    "for key in counts_by_hour:\n",
    "    comments = comments_by_hour[key]\n",
    "    avg_by_hour[key] = comments / counts_by_hour[key]\n",
    "print(avg_by_hour)"
   ]
  },
  {
   "cell_type": "code",
   "execution_count": 76,
   "metadata": {},
   "outputs": [
    {
     "name": "stdout",
     "output_type": "stream",
     "text": [
      "Times in PST\n",
      "12:00: 38.59 average comments per post\n",
      "23:00: 23.81 average comments per post\n",
      "17:00: 21.52 average comments per post\n",
      "13:00: 16.80 average comments per post\n",
      "18:00: 16.01 average comments per post\n",
      "10:00: 14.74 average comments per post\n",
      "07:00: 13.44 average comments per post\n",
      "11:00: 13.23 average comments per post\n",
      "15:00: 13.20 average comments per post\n",
      "14:00: 11.46 average comments per post\n",
      "22:00: 11.38 average comments per post\n",
      "08:00: 11.05 average comments per post\n",
      "16:00: 10.80 average comments per post\n",
      "05:00: 10.25 average comments per post\n",
      "02:00: 10.09 average comments per post\n",
      "09:00: 9.41 average comments per post\n",
      "03:00: 9.02 average comments per post\n",
      "21:00: 8.13 average comments per post\n",
      "20:00: 7.99 average comments per post\n",
      "04:00: 7.85 average comments per post\n",
      "00:00: 7.80 average comments per post\n",
      "01:00: 7.17 average comments per post\n",
      "19:00: 6.75 average comments per post\n",
      "06:00: 5.58 average comments per post\n"
     ]
    }
   ],
   "source": [
    "average_sort = {k:v for k,v in sorted(avg_by_hour.items(), key = lambda item: item[1], reverse = True)}\n",
    "print('Times in PST')\n",
    "for k, v in average_sort.items():\n",
    "    dt_time = dt.datetime.strptime(str(k), '%H')\n",
    "    time_diff = dt.timedelta(hours = 3)\n",
    "    print('{}:00: {:.2f} average comments per post'\n",
    "          .format((dt_time - time_diff).strftime(\"%H\"), v))"
   ]
  },
  {
   "cell_type": "markdown",
   "metadata": {},
   "source": [
    "The best times to write a post that will most probably be widely read and commented on is at 12am followed by 11pm Pacific Standard Time.\n",
    "The worst times to write a post that will garner the least attention is 6am followed by 7pm Pacific Standard Time."
   ]
  }
 ],
 "metadata": {
  "kernelspec": {
   "display_name": "Python 3",
   "language": "python",
   "name": "python3"
  },
  "language_info": {
   "codemirror_mode": {
    "name": "ipython",
    "version": 3
   },
   "file_extension": ".py",
   "mimetype": "text/x-python",
   "name": "python",
   "nbconvert_exporter": "python",
   "pygments_lexer": "ipython3",
   "version": "3.7.4"
  }
 },
 "nbformat": 4,
 "nbformat_minor": 2
}
